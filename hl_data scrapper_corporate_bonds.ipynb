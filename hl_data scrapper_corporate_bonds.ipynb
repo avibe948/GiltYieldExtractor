{
 "cells": [
  {
   "cell_type": "code",
   "execution_count": null,
   "id": "b3d8ae2e",
   "metadata": {},
   "outputs": [],
   "source": [
    "#in the absence of known webapi which can be used to retrieve the data , I am using web scrapping\n",
    "#to get the corporate bond info. getting it from a webapi which will return the bond yields will be much \n",
    "#easier"
   ]
  },
  {
   "cell_type": "code",
   "execution_count": null,
   "id": "8ea53a2f",
   "metadata": {},
   "outputs": [],
   "source": [
    "import pandas as pd\n",
    "import requests\n",
    "from bs4 import BeautifulSoup\n",
    "import asyncio\n",
    "import aiohttp\n",
    "import pandas as pd\n",
    "import nest_asyncio\n",
    "\n",
    "pd.set_option('display.max_colwidth', 200)\n",
    "\n",
    "# URL of the source\n",
    "url = 'https://www.hl.co.uk/shares/corporate-bonds-gilts/bond-prices/gbp-bonds'\n",
    "\n",
    "# Load data from URL\n",
    "tables = pd.read_html(url)\n",
    "# Extract the table of interest (in this case, the first table on the page)\n",
    "df = tables[0]\n",
    "df=df.drop(columns=['Actions'])\n",
    "df.head(10)\n",
    "\n"
   ]
  },
  {
   "cell_type": "code",
   "execution_count": null,
   "id": "eae527f2",
   "metadata": {},
   "outputs": [],
   "source": [
    "df_issuer = df\n",
    "print(df_issuer['Issuer'])\n",
    "# Split \"issuer\" column by \"|\" character\n",
    "df_issuer[['Name', 'ISIN', 'SEDOL']] = df_issuer['Issuer'].str.split('|', expand=True)\n",
    "\n",
    "# Remove leading/trailing whitespace from the newly created columns\n",
    "df_issuer['Name'] = df_issuer['Name'].str.strip()\n",
    "df_issuer['ISIN'] = df_issuer['ISIN'].str.strip()\n",
    "df_issuer['SEDOL'] = df_issuer['SEDOL'].str.strip()\n",
    "\n",
    "# Drop the original \"issuer\" column\n",
    "df_issuer.drop('Issuer', axis=1, inplace=True)\n",
    "\n",
    "# Get a list of all column names except \"Name\", \"ISIN\", and \"SEDOL\"\n",
    "other_columns = [col for col in df_issuer.columns if col not in ['Name', 'ISIN', 'SEDOL']]\n",
    "\n",
    "# Reorder columns with \"Name\", \"ISIN\", and \"SEDOL\" as the first columns, followed by the remaining columns\n",
    "df_issuer = df_issuer[['Name']+other_columns+['ISIN','SEDOL']]\n",
    "\n",
    "# Display the updated DataFrame with additional columns\n",
    "print(df_issuer)\n"
   ]
  },
  {
   "cell_type": "code",
   "execution_count": null,
   "id": "09e2d2ae",
   "metadata": {},
   "outputs": [],
   "source": [
    "bond_underlyings=df_issuer['SEDOL'].values\n",
    "bond_underlyings"
   ]
  },
  {
   "cell_type": "code",
   "execution_count": null,
   "id": "15c34c05",
   "metadata": {},
   "outputs": [],
   "source": [
    "%%capture\n",
    "%run gilts_yield_calculator.ipynb"
   ]
  },
  {
   "cell_type": "code",
   "execution_count": null,
   "id": "fd7c1463",
   "metadata": {},
   "outputs": [],
   "source": [
    "def get_coupon_frequancy(frequency):\n",
    "    switch_dict = {\n",
    "        \"Annually\": 1,\n",
    "        \"Bi-annually\": 2,\n",
    "        \"Quarterly\": 4\n",
    "    }\n",
    "    return switch_dict.get(frequency, None)\n"
   ]
  },
  {
   "cell_type": "code",
   "execution_count": null,
   "id": "b72ba24d",
   "metadata": {},
   "outputs": [],
   "source": [
    "# Define a function to generate link HTML\n",
    "def generate_link(url):\n",
    "    return f'<a href=\"{url}\" target=\"_blank\">{url}</a>'\n",
    "\n"
   ]
  },
  {
   "cell_type": "code",
   "execution_count": null,
   "id": "e90be04d",
   "metadata": {},
   "outputs": [],
   "source": [
    "b_df = pd.DataFrame(columns = ['SEDOL', 'CouponFreq'])\n",
    "\n"
   ]
  },
  {
   "cell_type": "code",
   "execution_count": null,
   "id": "f10476c6",
   "metadata": {},
   "outputs": [],
   "source": [
    "def add_bond_to_data_frame(bond_underlying: str, concate_to_df):\n",
    "    print('trying to scrap bond data {} from url '.format(bond_underlying))\n",
    "    url_hl_search = f'https://www.hl.co.uk/shares/shares-search-results/{bond_underlying}'\n",
    "    df = pd.read_html(url_hl_search)[0]\n",
    "    df = df.T\n",
    "    df.reset_index(drop=True, inplace=True)\n",
    "    df.columns = df.iloc[0].str.rstrip(':')\n",
    "    df.drop(0, inplace=True)\n",
    "    df['Coupon_Freq'] = df['Coupon frequency'].map(get_coupon_frequancy).astype('Int64')\n",
    "    df['SEDOL'] = bond_underlying\n",
    "    df = df[['Coupon_Freq', 'SEDOL']]\n",
    "    concate_to_df = pd.concat([concate_to_df, df], ignore_index=False)\n",
    "    return concate_to_df"
   ]
  },
  {
   "cell_type": "code",
   "execution_count": null,
   "id": "a726be98",
   "metadata": {},
   "outputs": [],
   "source": [
    "bond_underlying = 'B03HC45'\n",
    "#a = [add_bond_to_data_frame(b,b_df) for b in bond_underlyings]\n",
    "#b_df=add_bond_to_data_frame(bond_underlying,b_df)\n",
    "#b_df=b_df.style.format({'URL': generate_link})\n",
    "#b_df\n",
    "\n"
   ]
  },
  {
   "cell_type": "code",
   "execution_count": null,
   "id": "ca454abe",
   "metadata": {},
   "outputs": [],
   "source": [
    "get_bond_page= (lambda bond_underlying : \n",
    "                   f'https://www.hl.co.uk/shares/shares-search-results/{bond_underlying}')"
   ]
  },
  {
   "cell_type": "code",
   "execution_count": null,
   "id": "91079ff0",
   "metadata": {
    "scrolled": false
   },
   "outputs": [],
   "source": [
    "\n",
    "nest_asyncio.apply()  # Run this line if using Jupyter Notebook\n",
    "async def fetch_data(bond_underlying: str):\n",
    "    async with aiohttp.ClientSession() as session:\n",
    "        url_hl_search = get_bond_page(bond_underlying)           \n",
    "        async with session.get(url_hl_search) as response:\n",
    "            html = await response.text()\n",
    "            df= pd.read_html(html,flavor='bs4')[0]\n",
    "            df = df.transpose()\n",
    "            df.reset_index(drop=True, inplace=True)\n",
    "            df.columns = df.iloc[0].str.rstrip(':')\n",
    "            df.drop(0, inplace=True)\n",
    "            df['CouponFreq'] = df['Coupon frequency'].map(get_coupon_frequancy).astype('Int64')\n",
    "            df['SEDOL'] = bond_underlying\n",
    "            df = df[['CouponFreq', 'SEDOL']]\n",
    "            return df\n",
    "\n",
    "async def get_bond_coupon_freq(bond_underlying: str):\n",
    "    try:\n",
    "        print('trying to scrape bond data {} from url '.format(bond_underlying))\n",
    "        df = await fetch_data(bond_underlying)\n",
    "        return df\n",
    "    except Exception as e:        \n",
    "        print(\"error when calling bond {} m exception \\t {}\".format(bond_underlying,e))\n",
    "\n",
    "async def main():\n",
    "    global b_df\n",
    "    tasks = [get_bond_coupon_freq(bond_underlying) for bond_underlying in bond_underlyings]\n",
    "    results = await asyncio.gather(*tasks)\n",
    "    b_df= pd.concat([b_df]+results)\n",
    "\n",
    "await main()\n"
   ]
  },
  {
   "cell_type": "code",
   "execution_count": null,
   "id": "9f718bf9",
   "metadata": {},
   "outputs": [],
   "source": [
    "b_df"
   ]
  },
  {
   "cell_type": "code",
   "execution_count": null,
   "id": "c3687ec7",
   "metadata": {
    "scrolled": false
   },
   "outputs": [],
   "source": [
    "df_corp_bonds = pd.merge(df_issuer,b_df, on='SEDOL', how='outer')\n"
   ]
  },
  {
   "cell_type": "code",
   "execution_count": null,
   "id": "5f05e2dc",
   "metadata": {},
   "outputs": [],
   "source": [
    "df_corp_bonds=df_corp_bonds.rename(columns={'Coupon (%)': 'Coupon'})\n",
    "df_corp_bonds=df_corp_bonds.dropna()\n",
    "df_corp_bonds"
   ]
  },
  {
   "cell_type": "code",
   "execution_count": null,
   "id": "b12352f0",
   "metadata": {},
   "outputs": [],
   "source": [
    "date_format =\"%d %B %Y\"\n",
    "df_corp_bonds['Maturity'] = df_corp_bonds['Maturity'].apply(lambda maturity:pd.to_datetime(maturity).date())\n",
    "\n",
    "df_corp_bonds['Ttm'] = df_corp_bonds[\"Maturity\"].apply(lambda maturity: calculate_time_to_maturity(maturity))\n",
    "df_corp_bonds['NextCouponDate'] = df_corp_bonds.apply(lambda row: get_next_coupon_date(row['Maturity'],row['CouponFreq']),axis=1)\n",
    "\n",
    "cols = ['Maturity','NextCouponDate']\n",
    "for col in cols:\n",
    "    df_corp_bonds[col]= df_corp_bonds[col].apply(lambda date: pd.to_datetime(date).date())\n"
   ]
  },
  {
   "cell_type": "code",
   "execution_count": null,
   "id": "4140db35",
   "metadata": {},
   "outputs": [],
   "source": [
    "COUPON_EX_DATE_OFFSET=2 # how many business dates prior to date offset the Ex date is\n",
    "\n",
    "df_corp_bonds['AccruedInterest']=df_corp_bonds.apply(lambda x: calculate_accrued_interest(coupon=x['Coupon'],\n",
    "                                                                                          face_value=FACE_VALUE,\n",
    "                                                                                          years_to_maturity=x['Ttm'],\n",
    "                                                                                          payment_frequency=x['CouponFreq'],\n",
    "                                                                                          next_coupon_date=x['NextCouponDate'],\n",
    "                                                                                          coupon_ex_date_offset=COUPON_EX_DATE_OFFSET),axis=1)\n",
    "df_corp_bonds['DirtyPrice']=df_corp_bonds.apply(lambda x: calculate_dirty_price(x['Price'],x['AccruedInterest']),axis=1)\n",
    "df_corp_bonds['DirtyYield'] = df_corp_bonds.apply(lambda x: calculate_ytm(x['Coupon'], FACE_VALUE, x['Ttm'],x['DirtyPrice'],x['CouponFreq']), axis=1)\n",
    "df_corp_bonds['CleanYield'] = df_corp_bonds.apply(lambda x: calculate_ytm(x['Coupon'], FACE_VALUE, x['Ttm'],x['Price'],x['CouponFreq']), axis=1)"
   ]
  },
  {
   "cell_type": "code",
   "execution_count": null,
   "id": "7dfd7a96",
   "metadata": {},
   "outputs": [],
   "source": [
    "\n",
    "df_less_than_Ttm = df_corp_bonds[df_corp_bonds['Ttm'] < 5]\n",
    "df_less_than_Ttm=df_less_than_Ttm.sort_values(\"DirtyYield\", ascending=False)\n",
    "df_less_than_Ttm['URL']=df_less_than_Ttm['SEDOL'].apply(lambda sedol: get_bond_page(sedol))\n",
    "cols = ['Name','URL','SEDOL','Coupon', 'Maturity', 'Price', 'Ttm','DirtyPrice', 'DirtyYield', 'CleanYield','CouponFreq','NextCouponDate']\n",
    "df_less_than_Ttm = df_less_than_Ttm[cols]\n",
    "df_less_than_Ttm.style.format({'URL': generate_link})\n",
    "df_less_than_Ttm.sort_values(by='DirtyYield',ascending=False, inplace=True)"
   ]
  },
  {
   "cell_type": "code",
   "execution_count": null,
   "id": "439c5143",
   "metadata": {},
   "outputs": [],
   "source": [
    "df_less_than_Ttm"
   ]
  },
  {
   "cell_type": "code",
   "execution_count": null,
   "id": "e69be58a",
   "metadata": {},
   "outputs": [],
   "source": []
  },
  {
   "cell_type": "code",
   "execution_count": null,
   "id": "b7e47323",
   "metadata": {},
   "outputs": [],
   "source": []
  },
  {
   "cell_type": "code",
   "execution_count": null,
   "id": "e3ad1724",
   "metadata": {},
   "outputs": [],
   "source": []
  },
  {
   "cell_type": "code",
   "execution_count": null,
   "id": "6685d60c",
   "metadata": {},
   "outputs": [],
   "source": []
  },
  {
   "cell_type": "code",
   "execution_count": null,
   "id": "041eebf0",
   "metadata": {},
   "outputs": [],
   "source": []
  }
 ],
 "metadata": {
  "kernelspec": {
   "display_name": "Python 3 (ipykernel)",
   "language": "python",
   "name": "python3"
  },
  "language_info": {
   "codemirror_mode": {
    "name": "ipython",
    "version": 3
   },
   "file_extension": ".py",
   "mimetype": "text/x-python",
   "name": "python",
   "nbconvert_exporter": "python",
   "pygments_lexer": "ipython3",
   "version": "3.11.2"
  }
 },
 "nbformat": 4,
 "nbformat_minor": 5
}
