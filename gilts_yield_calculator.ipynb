{
 "cells": [
  {
   "cell_type": "code",
   "execution_count": null,
   "id": "6126a8bd",
   "metadata": {},
   "outputs": [],
   "source": [
    "#%pip install pandas_market_calendars \n",
    "import datetime\n",
    "import pandas_market_calendars as mcal\n",
    "from dateutil.relativedelta import relativedelta\n",
    "import pandas as pd\n",
    "from datetime import datetime,date ,timedelta\n",
    "\n",
    "class Memoaize:\n",
    "    def __init__(self,f) -> None:\n",
    "        self.f = f\n",
    "        self.memo = {}\n",
    "    \n",
    "    def __call__(self, *args):\n",
    "        if args not in self.memo:\n",
    "            self.memo[args] = self.f(*args)\n",
    "        return self.memo[args]\n",
    "\n",
    "\n",
    "''' computes the last valid business date. if today is a last valid business date it will return today'''\n",
    "@Memoaize\n",
    "def last_valid_business_date(reference_date:date, calendar_name:str ='XLON'):\n",
    "    # Create a calendar object for the UK market\n",
    "    calendar = mcal.get_calendar(calendar_name)  # 'XLON' is the code for the London Stock Exchange calendar\n",
    "\n",
    "    # Get today's date\n",
    "    today = pd.Timestamp(reference_date)\n",
    "\n",
    "    if calendar.valid_days(start_date=today, end_date=today).shape[0] > 0:\n",
    "            return today.date()\n",
    "        \n",
    "    # Start from today and go back one day at a time until a valid non-holiday business date is found\n",
    "    while True:\n",
    "        today -= timedelta(days=1)\n",
    "        if calendar.valid_days(start_date=today, end_date=today).shape[0] > 0:\n",
    "            return today.date()\n",
    "\n",
    "\n",
    "@Memoaize\n",
    "def get_next_coupon_date(maturity_date, coupon_freq:int, current_date=None):\n",
    "    # Define a dictionary to map coupon frequencies to the number of months between coupons.\n",
    "\n",
    "\n",
    "    if current_date is None:\n",
    "        current_date = datetime.date.today()\n",
    "\n",
    "    months_between_coupons = (12/coupon_freq)\n",
    "    # Calculate the next coupon date.\n",
    "    next_coupon_date = maturity_date\n",
    "    while next_coupon_date >= current_date:\n",
    "        next_coupon_date -= relativedelta(months=months_between_coupons)  # Subtract months using relativedelta\n",
    "    \n",
    "    if next_coupon_date < current_date:\n",
    "        next_coupon_date += relativedelta(months=months_between_coupons)\n",
    "        \n",
    "    \n",
    "    return next_coupon_date\n",
    "\n",
    "@Memoaize\n",
    "def get_coupon_ex_date(coupon_date:datetime, days_offset:int, calendar_name=\"Bond_Markets_UK\"):\n",
    "       # Calculate the next ex-dividend date as 7 business days before the next coupon date.\n",
    "    uk_calendar = mcal.get_calendar(calendar_name)\n",
    "    valid_days = uk_calendar.valid_days(start_date=coupon_date - timedelta(days=days_offset+7), \n",
    "                                     end_date=coupon_date - timedelta(days=1))\n",
    "    print(valid_days)\n",
    "    ex_date = valid_days[-days_offset]\n",
    "    return ex_date\n",
    "\n",
    "# Example usage:\n",
    "ref_date = date(2023, 10, 1)\n",
    "last_valid_date = last_valid_business_date(ref_date,'XLON')\n",
    "print(\"Last Valid Business Date in the UK:\", last_valid_date)\n",
    "\n",
    "# Example usage:\n",
    "maturity_date = date(2023, 12, 31)  # Replace with the actual maturity date\n",
    "coupon_frequency = 2\n",
    "current_date = date(2023, 9, 15)  # Replace with the current date\n",
    "next_coupon_date = get_next_coupon_date(maturity_date, coupon_frequency, current_date)\n",
    "next_coupon_ex_date = get_coupon_ex_date(next_coupon_date,7)\n",
    "print(\"Next Coupon Date:\", next_coupon_date)\n",
    "print(\"Next Coupon Ex Date:\", next_coupon_ex_date)\n"
   ]
  },
  {
   "cell_type": "code",
   "execution_count": null,
   "id": "dd753a34",
   "metadata": {},
   "outputs": [],
   "source": [
    "import numpy_financial as npf\n",
    "import datetime\n",
    "import pytz\n",
    "\n",
    "GILTS_COUPON_EX_DATE_OFFSET=7\n",
    "\n",
    "def calculate_ytm(coupon, face_value, years_to_maturity, price, coupon_freq):\n",
    "    try:\n",
    "        coupon = coupon / 100.0\n",
    "        periods = years_to_maturity * coupon_freq\n",
    "        ytm = npf.rate(nper=periods, pmt=coupon * face_value / coupon_freq, pv=-price, fv=face_value) * coupon_freq\n",
    "        return ytm * 100.0\n",
    "    except Exception as e:\n",
    "        return None\n",
    "    \n",
    "def calculate_accrued_interest(coupon: float, face_value: float, \n",
    "                               years_to_maturity: float, payment_frequency: int, \n",
    "                               next_coupon_date: datetime, coupon_ex_date_offset:int):\n",
    "    coupon = coupon / 100.0\n",
    "    periods = int(years_to_maturity * payment_frequency)\n",
    "    days_in_period = int(365 / payment_frequency)\n",
    "    current_date = datetime.datetime.now()\n",
    "    next_coupon_ex_date = get_coupon_ex_date(next_coupon_date,coupon_ex_date_offset)\n",
    "    current_date = current_date.replace(tzinfo=pytz.UTC) \n",
    "    next_coupon_date = next_coupon_ex_date.replace(tzinfo=pytz.UTC)\n",
    "  \n",
    "    days_since_last_coupon = (current_date-next_coupon_ex_date).days % days_in_period\n",
    "    coupon_payment = (face_value * coupon) / payment_frequency\n",
    "    accrued_interest = coupon_payment * days_since_last_coupon / days_in_period\n",
    "    return accrued_interest\n",
    "\n",
    "def calculate_dirty_price(clean_price: float, accrued_interest: float):\n",
    "    dirty_price = clean_price + accrued_interest\n",
    "    return dirty_price\n",
    "\n",
    "def calculate_time_to_maturity(maturity: datetime, today:datetime=datetime.date.today()):\n",
    "    return (maturity - today).days / 365\n",
    "\n",
    "# Example usage:\n",
    "coupon = 5.0  # 5% coupon rate\n",
    "face_value = 100.0\n",
    "years_to_maturity = 5.0\n",
    "clean_price = 95.0\n",
    "payment_frequency = 2  # Semi-annual payments\n",
    "dividend_ex_date = date(2023, 9, 15)  # Replace with the actual dividend ex-date\n",
    "accrued_interest = calculate_accrued_interest(coupon, face_value, years_to_maturity, payment_frequency, dividend_ex_date,GILTS_COUPON_EX_DATE_OFFSET)\n",
    "dirty_price = calculate_dirty_price(clean_price, accrued_interest)\n",
    "print(\"Dirty Price:\", dirty_price)\n"
   ]
  },
  {
   "cell_type": "code",
   "execution_count": null,
   "id": "87bf8e19",
   "metadata": {},
   "outputs": [],
   "source": [
    "maturity_date = date(2025, 3, 7)  # Replace with the actual maturity date\n",
    "coupon_frequency = 2\n",
    "current_date = datetime.date(2023, 9, 15)  # Replace with the current date\n",
    "next_coupon_date = get_next_coupon_date(maturity_date, coupon_frequency, current_date)\n",
    "next_coupon_ex_date = get_coupon_ex_date(next_coupon_date,GILTS_COUPON_EX_DATE_OFFSET)\n",
    "print(\"Next Coupon Date:\", next_coupon_date)\n",
    "print(\"Next Coupon Ex Date:\", next_coupon_ex_date)\n",
    "assert next_coupon_date ==  date(2024,3,7)\n",
    "assert next_coupon_ex_date == date(2024,2,27)\n",
    "\n",
    "print ('another example for calculating next coupon date')\n",
    "maturity_date = date(2026, 7, 8)  # Replace with the actual maturity date\n",
    "coupon_frequency = 1\n",
    "current_date = date(2023, 10, 1)  # Replace with the current date\n",
    "next_coupon_date = get_next_coupon_date(maturity_date, coupon_frequency, current_date)\n",
    "print('next coupon date ' + str(next_coupon_date))\n",
    "assert next_coupon_date == date(2024,7,8)"
   ]
  },
  {
   "cell_type": "code",
   "execution_count": null,
   "id": "68bad4de",
   "metadata": {},
   "outputs": [],
   "source": [
    "bond_source_url = 'https://www.hl.co.uk/shares/corporate-bonds-gilts/bond-prices/uk-gilts?column=coupon&order=desc'\n"
   ]
  },
  {
   "cell_type": "code",
   "execution_count": null,
   "id": "063b94f8",
   "metadata": {},
   "outputs": [],
   "source": [
    "\n",
    "\n",
    "# Set the URL to extract the data from\n",
    "url = bond_source_url\n",
    "# Use pandas to extract the tables from the URL\n",
    "tables = pd.read_html(url)\n",
    "# Select the first table, which contains the bond data\n",
    "bond_data = tables[0]\n",
    "# Print the first 10 rows of the bond data\n",
    "print(bond_data.head(10))\n"
   ]
  },
  {
   "cell_type": "code",
   "execution_count": null,
   "id": "fdbb23d8",
   "metadata": {},
   "outputs": [],
   "source": [
    "bond_data.columns\n"
   ]
  },
  {
   "cell_type": "markdown",
   "id": "b13a7880",
   "metadata": {},
   "source": [
    "import pandas as pd\n",
    "\n",
    "url = \"https://www.hl.co.uk/shares/corporate-bonds-gilts/bond-prices/uk-gilts?column=coupon&order=desc\"\n",
    "\n",
    "bond_data = pd.read_html(url)[0]\n",
    "gilt_ex_date_lag =7 # number of business days prior to the ex-date. \n",
    "\n",
    "bond_data['ShortName'] = bond_data['Issuer'].apply(lambda x: x.split('|')[1].strip())\n",
    "bond_data[\"Maturity\"] = pd.to_datetime(bond_data[\"Maturity\"], format=\"%d %B %Y\")\n",
    "bond_data['Ttm'] = bond_data[\"Maturity\"].apply(lambda maturity: calculate_time_to_maturity(maturity))\n",
    "bond_data['CouponFreq']=2\n",
    "bond_data['NextCouponDate'] = bond_data.apply(lambda row: get_next_coupon_date(row['Maturity'],row['CouponFreq']), axis=1)\n",
    "bond_data['NextExCouponDate'] = bond_data.apply(lambda row: get_coupon_ex_date(row['NextCouponDate'],gilt_ex_date_lag), \n",
    "                                                axis=1)\n",
    "\n",
    "bond_data=bond_data.rename(columns={'Coupon (%)': 'Coupon'})\n",
    "bond_data=bond_data.drop(columns=['Issuer','Actions'])\n",
    "col = bond_data.pop('ShortName')\n",
    "bond_data.insert(0, 'ShortName', col)\n",
    "\n",
    "print(bond_data.head())\n"
   ]
  },
  {
   "cell_type": "code",
   "execution_count": null,
   "id": "84426185",
   "metadata": {},
   "outputs": [],
   "source": [
    "bond_data.head"
   ]
  },
  {
   "cell_type": "code",
   "execution_count": null,
   "id": "65d1e731",
   "metadata": {},
   "outputs": [],
   "source": [
    "import pandas as pd\n",
    "\n",
    "url = \"https://www.hl.co.uk/shares/corporate-bonds-gilts/bond-prices/uk-gilts?column=coupon&order=desc\"\n",
    "\n",
    "bond_data = pd.read_html(url)[0]\n",
    "gilt_ex_date_lag =7 # number of business days prior to the ex-date. \n",
    "date_format =\"%d %B %Y\"\n",
    "\n"
   ]
  },
  {
   "cell_type": "code",
   "execution_count": null,
   "id": "8564214a",
   "metadata": {},
   "outputs": [],
   "source": [
    "bond_data['ShortName'] = bond_data.Issuer.apply(lambda issuer: issuer.split('|')[0].strip());\n",
    "bond_data['ISIN'] = bond_data.Issuer.apply(lambda issuer: issuer.split('|')[1].strip());"
   ]
  },
  {
   "cell_type": "code",
   "execution_count": null,
   "id": "85f5cbd7",
   "metadata": {},
   "outputs": [],
   "source": [
    "\n",
    "bond_data['Maturity'] = bond_data.Maturity.apply(lambda maturity: datetime.datetime.strptime(maturity, date_format).date())\n",
    "print(bond_data.Maturity[-1:])\n",
    "bond_data['Ttm'] = bond_data.Maturity.apply(calculate_time_to_maturity)\n",
    "coupon_freq_gilts = 2\n",
    "bond_data['CouponFreq'] = coupon_freq_gilts\n",
    "bond_data['NextCouponDate'] = bond_data.Maturity.apply(lambda maturity: get_next_coupon_date(maturity, coupon_freq_gilts))\n",
    "bond_data['NextCouponExDate'] = bond_data.NextCouponDate.apply(lambda nextCouponDate: get_coupon_ex_date(nextCouponDate, gilt_ex_date_lag))\n",
    "\n",
    "bond_data=bond_data.rename(columns={'Coupon (%)': 'Coupon'})\n",
    "bond_data=bond_data.drop(columns=['Actions'])\n",
    "cols = ['Maturity','NextCouponDate']\n",
    "for col in cols:\n",
    "    bond_data[col]= bond_data[col].apply(lambda date: pd.to_datetime(date).date())\n"
   ]
  },
  {
   "cell_type": "code",
   "execution_count": null,
   "id": "fda064d0",
   "metadata": {},
   "outputs": [],
   "source": [
    "bond_data.head(20)"
   ]
  },
  {
   "cell_type": "code",
   "execution_count": null,
   "id": "5d55229c",
   "metadata": {},
   "outputs": [],
   "source": [
    "bond_data.columns\n"
   ]
  },
  {
   "cell_type": "code",
   "execution_count": null,
   "id": "baebd6d3",
   "metadata": {},
   "outputs": [],
   "source": [
    "FACE_VALUE=100.0"
   ]
  },
  {
   "cell_type": "code",
   "execution_count": null,
   "id": "708705d3",
   "metadata": {},
   "outputs": [],
   "source": [
    "bond_data.head(1)"
   ]
  },
  {
   "cell_type": "code",
   "execution_count": null,
   "id": "3de61eeb",
   "metadata": {},
   "outputs": [],
   "source": [
    "bond_data['AccruedInterest']=bond_data.apply(lambda x: calculate_accrued_interest(x['Coupon'],FACE_VALUE,x['Ttm'],x['CouponFreq'], x['NextCouponDate'], GILTS_COUPON_EX_DATE_OFFSET),axis=1)\n",
    "bond_data['DirtyPrice']=bond_data.apply(lambda x: calculate_dirty_price(x['Price'],x['AccruedInterest']),axis=1)\n",
    "bond_data['DirtyYield'] = bond_data.apply(lambda x: calculate_ytm(x['Coupon'], FACE_VALUE, x['Ttm'],x['DirtyPrice'],x['CouponFreq']), axis=1)\n",
    "bond_data['CleanYield'] = bond_data.apply(lambda x: calculate_ytm(x['Coupon'], FACE_VALUE, x['Ttm'],x['Price'],x['CouponFreq']), axis=1)\n"
   ]
  },
  {
   "cell_type": "code",
   "execution_count": null,
   "id": "95ee1553",
   "metadata": {},
   "outputs": [],
   "source": [
    "bond_data.head()\n"
   ]
  },
  {
   "cell_type": "code",
   "execution_count": null,
   "id": "9699cacf",
   "metadata": {},
   "outputs": [],
   "source": [
    "bond_data=bond_data.sort_values('Ttm')\n"
   ]
  },
  {
   "cell_type": "code",
   "execution_count": null,
   "id": "4b0d78ee",
   "metadata": {},
   "outputs": [],
   "source": [
    "pd.set_option('display.max_columns', 10)\n",
    "pd.set_option('display.max_rows', None)\n",
    "pd.set_option('display.max_colwidth', None)\n",
    "pd.set_option('display.width', None)\n",
    "\n",
    "bond_data_styler=bond_data.style.set_properties(**{'font-size': '8pt'})\n",
    "bond_data.sort_values(by='DirtyYield',ascending=False, inplace=True)"
   ]
  },
  {
   "cell_type": "code",
   "execution_count": null,
   "id": "936b945b",
   "metadata": {},
   "outputs": [],
   "source": [
    "bond_data.head()"
   ]
  },
  {
   "cell_type": "code",
   "execution_count": null,
   "id": "ea826eac",
   "metadata": {},
   "outputs": [],
   "source": [
    "#bond_data.to_excel(r\"c:\\temp\\bond_data.xlsx\", index=False)"
   ]
  },
  {
   "cell_type": "code",
   "execution_count": null,
   "id": "4c0f0016",
   "metadata": {},
   "outputs": [],
   "source": [
    "# yield filtering \n",
    "df_filter_by_maturity = bond_data[bond_data['Ttm']<5]"
   ]
  },
  {
   "cell_type": "code",
   "execution_count": null,
   "id": "59923706",
   "metadata": {},
   "outputs": [],
   "source": [
    "df_filter_by_maturity=df_filter_by_maturity.sort_values(\"DirtyYield\", ascending=False)\n",
    "cols = ['ShortName', 'Coupon', 'Maturity', 'Price', 'Ttm','DirtyPrice', 'DirtyYield', 'CleanYield', 'ISIN', 'NextCouponExDate']\n",
    "df_less_than_Ttm = df_filter_by_maturity[cols]\n",
    "df_less_than_Ttm\n"
   ]
  },
  {
   "cell_type": "code",
   "execution_count": null,
   "id": "a62aba2f",
   "metadata": {},
   "outputs": [],
   "source": []
  },
  {
   "cell_type": "code",
   "execution_count": null,
   "id": "462d8a95",
   "metadata": {},
   "outputs": [],
   "source": []
  }
 ],
 "metadata": {
  "kernelspec": {
   "display_name": "Python 3 (ipykernel)",
   "language": "python",
   "name": "python3"
  },
  "language_info": {
   "codemirror_mode": {
    "name": "ipython",
    "version": 3
   },
   "file_extension": ".py",
   "mimetype": "text/x-python",
   "name": "python",
   "nbconvert_exporter": "python",
   "pygments_lexer": "ipython3",
   "version": "3.11.2"
  }
 },
 "nbformat": 4,
 "nbformat_minor": 5
}
